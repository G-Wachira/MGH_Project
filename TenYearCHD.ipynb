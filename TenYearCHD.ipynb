{
 "cells": [
  {
   "cell_type": "code",
   "execution_count": 1,
   "id": "5ae991d9",
   "metadata": {},
   "outputs": [
    {
     "name": "stdout",
     "output_type": "stream",
     "text": [
      "New Data:\n",
      "   age  sex  currentSmoker  cigsPerDay  diabetes  totChol  sysBP   BMI  \\\n",
      "0   85    0              0           0         1      245    160  28.2   \n",
      "1   55    1              1           7         0      180    130  28.8   \n",
      "2   35    0              1          12         1      220    145  25.1   \n",
      "3   20    1              1           5         0      165    110  24.0   \n",
      "\n",
      "   prevalentHyp  BPMeds  glucose  \n",
      "0             1       1      110  \n",
      "1             0       0       85  \n",
      "2             0       0       95  \n",
      "3             0       0       78  \n",
      "   age  sex  currentSmoker  cigsPerDay  diabetes  totChol  sysBP   BMI  \\\n",
      "0   85    0              0           0         1      245    160  28.2   \n",
      "1   55    1              1           7         0      180    130  28.8   \n",
      "2   35    0              1          12         1      220    145  25.1   \n",
      "3   20    1              1           5         0      165    110  24.0   \n",
      "\n",
      "   prevalentHyp  BPMeds  glucose  \n",
      "0             1       1      110  \n",
      "1             0       0       85  \n",
      "2             0       0       95  \n",
      "3             0       0       78  \n",
      "Scaled New Data Shape: (4, 11)\n",
      "\n",
      "Prediction Results:\n",
      "   age  sex  currentSmoker  cigsPerDay  diabetes  totChol  sysBP   BMI  \\\n",
      "0   85    0              0           0         1      245    160  28.2   \n",
      "1   55    1              1           7         0      180    130  28.8   \n",
      "2   35    0              1          12         1      220    145  25.1   \n",
      "3   20    1              1           5         0      165    110  24.0   \n",
      "\n",
      "   prevalentHyp  BPMeds  glucose  predicted_TenYearCHD  TenYearCHD_probability  \n",
      "0             1       1      110                     1                     1.0  \n",
      "1             0       0       85                     1                     1.0  \n",
      "2             0       0       95                     1                     1.0  \n",
      "3             0       0       78                     1                     1.0  \n"
     ]
    },
    {
     "name": "stderr",
     "output_type": "stream",
     "text": [
      "c:\\Users\\ADMIN\\AppData\\Local\\Programs\\Python\\Python313\\Lib\\site-packages\\sklearn\\utils\\validation.py:2742: UserWarning: X has feature names, but StandardScaler was fitted without feature names\n",
      "  warnings.warn(\n"
     ]
    }
   ],
   "source": [
    "import joblib\n",
    "import pandas as pd\n",
    "from sklearn.preprocessing import StandardScaler\n",
    "\n",
    "\n",
    "model = joblib.load('TenYearCHD.joblib')\n",
    "scaler = joblib.load('scaler.joblib')\n",
    "\n",
    "# create lib exactly the way you trained in that order, insert own realistic values\n",
    "\n",
    "new_data = pd.DataFrame({\n",
    "    \"age\": [85, 55, 35, 20],\n",
    "    \"sex\": [0, 1, 0, 1],  # 0=Female, 1=Male\n",
    "    \"currentSmoker\": [0, 1, 1, 1],  # 0=No, 1=Yes\n",
    "    \"cigsPerDay\": [0, 7, 12, 5],  # Number of cigarettes per day\n",
    "    \"diabetes\": [1, 0, 1, 0],  # 0=No, 1=Yes\n",
    "    \"totChol\": [245, 180, 220, 165],  # Total cholesterol (mg/dL)\n",
    "    \"sysBP\": [160, 130, 145, 110],  # Systolic blood pressure (mmHg)\n",
    "    \"BMI\": [28.2, 28.8, 25.1, 24.0],  # Body Mass Index\n",
    "    \"prevalentHyp\": [1, 0, 0, 0],  # 0=No hypertension, 1=Has hypertension\n",
    "    \"BPMeds\": [1, 0, 0, 0],  # 0=Not on BP medication, 1=On BP medication\n",
    "    \"glucose\": [110, 85, 95, 78]  # Fasting glucose (mg/dL)\n",
    "})\n",
    "print(\"New Data:\")\n",
    "print(new_data)\n",
    "\n",
    "#reorder data\n",
    "new_data = new_data[[\"age\",\"sex\",\"currentSmoker\",\"cigsPerDay\",\"diabetes\",\"totChol\",\"sysBP\",\"BMI\",\"prevalentHyp\",\"BPMeds\",\"glucose\"]]\n",
    "print(new_data)\n",
    "\n",
    "# Scale the new data here\n",
    "X_new = scaler.transform(new_data)\n",
    "print(\"Scaled New Data Shape:\", X_new.shape)\n",
    "\n",
    "# Make predictions at this stage: based on the scaled data\n",
    "predictions = model.predict(X_new)\n",
    "prediction_probs = model.predict_proba(X_new)[:, 1] # Probability of CHD=1\n",
    "\n",
    "# Combine predictions with original data\n",
    "new_data_with_predictions = new_data.copy()\n",
    "new_data_with_predictions['predicted_TenYearCHD'] = predictions\n",
    "new_data_with_predictions['TenYearCHD_probability'] = prediction_probs\n",
    "\n",
    "# Display results\n",
    "print(\"\\nPrediction Results:\")\n",
    "print(new_data_with_predictions)"
   ]
  }
 ],
 "metadata": {
  "kernelspec": {
   "display_name": "Python 3",
   "language": "python",
   "name": "python3"
  },
  "language_info": {
   "codemirror_mode": {
    "name": "ipython",
    "version": 3
   },
   "file_extension": ".py",
   "mimetype": "text/x-python",
   "name": "python",
   "nbconvert_exporter": "python",
   "pygments_lexer": "ipython3",
   "version": "3.13.5"
  }
 },
 "nbformat": 4,
 "nbformat_minor": 5
}
